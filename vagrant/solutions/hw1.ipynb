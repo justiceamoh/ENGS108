{
 "cells": [
  {
   "cell_type": "markdown",
   "metadata": {},
   "source": [
    "# HW \\#1\n",
    "Imports and dependencies"
   ]
  },
  {
   "cell_type": "code",
   "execution_count": 1,
   "metadata": {
    "collapsed": true
   },
   "outputs": [],
   "source": [
    "import numpy as np\n",
    "\n",
    "from scipy.stats import norm\n",
    "from scipy.io import loadmat"
   ]
  },
  {
   "cell_type": "markdown",
   "metadata": {},
   "source": [
    "## Problem \\#1\n",
    "Let $r_j$ be the $j$th row of $A$, and let $x_j$ be the solution to \n",
    "$$Ax_j = r_j$$"
   ]
  },
  {
   "cell_type": "code",
   "execution_count": 2,
   "metadata": {
    "collapsed": true
   },
   "outputs": [],
   "source": [
    "# Load the matrix into memory, assuming for now that it is stored in the home directory\n",
    "A = loadmat(\"/home/vagrant/A11F17108.mat\")['A']\n",
    "\n",
    "# Obtain x, where Ax[:,i] = A[i,:].T\n",
    "x = np.linalg.lstsq(A,A.T)[0]"
   ]
  },
  {
   "cell_type": "code",
   "execution_count": 3,
   "metadata": {},
   "outputs": [
    {
     "name": "stdout",
     "output_type": "stream",
     "text": [
      "Succeeds!\n"
     ]
    }
   ],
   "source": [
    "# Test\n",
    "for i in range(200):\n",
    "    if not np.allclose(np.dot(A,x[:,i]), A[i,:]):\n",
    "        print(\"Fails on index %d\" % i)\n",
    "        break\n",
    "    if i == 199:\n",
    "        print(\"Succeeds!\")"
   ]
  },
  {
   "cell_type": "markdown",
   "metadata": {},
   "source": [
    "### Part (a)\n",
    "Solve\n",
    "$$\\textrm{argmin}_{j \\in [199]} \\|x_j\\|_2$$"
   ]
  },
  {
   "cell_type": "code",
   "execution_count": 4,
   "metadata": {
    "collapsed": true
   },
   "outputs": [],
   "source": [
    "norms = np.linalg.norm(x,axis=0)"
   ]
  },
  {
   "cell_type": "code",
   "execution_count": 5,
   "metadata": {},
   "outputs": [
    {
     "name": "stdout",
     "output_type": "stream",
     "text": [
      "Succeeds!\n"
     ]
    }
   ],
   "source": [
    "# Test\n",
    "for i in range(200):\n",
    "    if not np.allclose(np.sqrt(np.sum(np.power(x[:,i],2))), norms[i]):\n",
    "        print(\"Fails on index %d\" % i)\n",
    "        break\n",
    "    if i == 199:\n",
    "        print(\"Succeeds!\")"
   ]
  },
  {
   "cell_type": "code",
   "execution_count": 6,
   "metadata": {},
   "outputs": [
    {
     "data": {
      "text/plain": [
       "164"
      ]
     },
     "execution_count": 6,
     "metadata": {},
     "output_type": "execute_result"
    }
   ],
   "source": [
    "np.argmin(norms)"
   ]
  },
  {
   "cell_type": "code",
   "execution_count": 7,
   "metadata": {},
   "outputs": [
    {
     "name": "stdout",
     "output_type": "stream",
     "text": [
      "164\n"
     ]
    }
   ],
   "source": [
    "# Test\n",
    "m = np.inf\n",
    "ind = 0\n",
    "for i in range(200):\n",
    "    if norms[i] < m:\n",
    "        m = norms[i]\n",
    "        ind = i\n",
    "print(ind)"
   ]
  },
  {
   "cell_type": "markdown",
   "metadata": {},
   "source": [
    "### Part (b)\n",
    "Solve\n",
    "$$\\textrm{argmax}_{j \\in [199]} \\|x_j\\|_2$$"
   ]
  },
  {
   "cell_type": "code",
   "execution_count": 8,
   "metadata": {},
   "outputs": [
    {
     "data": {
      "text/plain": [
       "123"
      ]
     },
     "execution_count": 8,
     "metadata": {},
     "output_type": "execute_result"
    }
   ],
   "source": [
    "np.argmax(norms)"
   ]
  },
  {
   "cell_type": "code",
   "execution_count": 9,
   "metadata": {},
   "outputs": [
    {
     "name": "stdout",
     "output_type": "stream",
     "text": [
      "123\n"
     ]
    }
   ],
   "source": [
    "# Test\n",
    "m = 0\n",
    "ind = 0\n",
    "for i in range(200):\n",
    "    if norms[i] > m:\n",
    "        m = norms[i]\n",
    "        ind = i\n",
    "print(ind)"
   ]
  },
  {
   "cell_type": "markdown",
   "metadata": {},
   "source": [
    "### Part (c)\n",
    "What is the average value of $\\|x_j\\|_2$ over all $j \\in [199]$?"
   ]
  },
  {
   "cell_type": "code",
   "execution_count": 10,
   "metadata": {},
   "outputs": [
    {
     "data": {
      "text/plain": [
       "47.154309366284032"
      ]
     },
     "execution_count": 10,
     "metadata": {},
     "output_type": "execute_result"
    }
   ],
   "source": [
    "np.mean(norms)"
   ]
  },
  {
   "cell_type": "markdown",
   "metadata": {},
   "source": [
    "## Problem \\#2"
   ]
  },
  {
   "cell_type": "markdown",
   "metadata": {},
   "source": [
    "### Part (a)\n",
    "Let $y$ be a vector orthogonal to $r_1^T, \\dots, r_n-1^T$ with $\\|y\\|_2 = 1$ and $y_1 > 0$. What are $y_3$, $y_{12}$, and $y_{37}$?"
   ]
  },
  {
   "cell_type": "code",
   "execution_count": 127,
   "metadata": {
    "collapsed": true
   },
   "outputs": [],
   "source": [
    "# Compute the SVD of A with the last row clipped, and use the last row of V\n",
    "u,s,v = np.linalg.svd(A[:-1,:])\n",
    "ns = v[-1,:]"
   ]
  },
  {
   "cell_type": "code",
   "execution_count": 128,
   "metadata": {},
   "outputs": [
    {
     "name": "stdout",
     "output_type": "stream",
     "text": [
      "Succeeds!\n"
     ]
    }
   ],
   "source": [
    "# Test\n",
    "target = np.zeros((199,1))\n",
    "for i in range(199):\n",
    "    if not np.allclose(np.dot(A[i,:],ns),target):\n",
    "        print(\"Fails on index %d\" %i)\n",
    "        break\n",
    "    if i == 198:\n",
    "        print(\"Succeeds!\")"
   ]
  },
  {
   "cell_type": "code",
   "execution_count": 129,
   "metadata": {},
   "outputs": [
    {
     "data": {
      "text/plain": [
       "0.99999999999999989"
      ]
     },
     "execution_count": 129,
     "metadata": {},
     "output_type": "execute_result"
    }
   ],
   "source": [
    "np.linalg.norm(ns)"
   ]
  },
  {
   "cell_type": "code",
   "execution_count": 130,
   "metadata": {},
   "outputs": [
    {
     "data": {
      "text/plain": [
       "0.076186565900629666"
      ]
     },
     "execution_count": 130,
     "metadata": {},
     "output_type": "execute_result"
    }
   ],
   "source": [
    "# check orientation\n",
    "ns[0]"
   ]
  },
  {
   "cell_type": "code",
   "execution_count": 131,
   "metadata": {},
   "outputs": [
    {
     "data": {
      "text/plain": [
       "(0.057460365244790035, 0.10102935095916442, 0.10848280840607714)"
      ]
     },
     "execution_count": 131,
     "metadata": {},
     "output_type": "execute_result"
    }
   ],
   "source": [
    "# return relevant indices\n",
    "(ns[2],ns[11],ns[36])"
   ]
  },
  {
   "cell_type": "code",
   "execution_count": 132,
   "metadata": {},
   "outputs": [
    {
     "data": {
      "text/plain": [
       "(0.047033764877241764, 0.067764640935866607, 0.022898505380490552)"
      ]
     },
     "execution_count": 132,
     "metadata": {},
     "output_type": "execute_result"
    }
   ],
   "source": [
    "# Just in case of an oopsie\n",
    "(ns[3],ns[12],ns[37])"
   ]
  },
  {
   "cell_type": "code",
   "execution_count": 133,
   "metadata": {},
   "outputs": [
    {
     "name": "stdout",
     "output_type": "stream",
     "text": [
      "Succeeds!\n"
     ]
    }
   ],
   "source": [
    "# Test\n",
    "for i in range(0,199):\n",
    "    if not np.allclose(np.dot(ns,A[i,:]),0):\n",
    "        print(\"Failed at index %d\" %i)\n",
    "        break\n",
    "    if i == 198:\n",
    "        print(\"Succeeds!\")"
   ]
  },
  {
   "cell_type": "code",
   "execution_count": 150,
   "metadata": {
    "collapsed": true
   },
   "outputs": [],
   "source": [
    "q,r = np.linalg.qr(A[:-1,:].T, mode=\"complete\")"
   ]
  },
  {
   "cell_type": "code",
   "execution_count": 151,
   "metadata": {
    "collapsed": true
   },
   "outputs": [],
   "source": [
    "y = q[:,-1]"
   ]
  },
  {
   "cell_type": "code",
   "execution_count": 152,
   "metadata": {},
   "outputs": [
    {
     "data": {
      "text/plain": [
       "-0.07618656590063011"
      ]
     },
     "execution_count": 152,
     "metadata": {},
     "output_type": "execute_result"
    }
   ],
   "source": [
    "y[0]"
   ]
  },
  {
   "cell_type": "code",
   "execution_count": 153,
   "metadata": {
    "collapsed": true
   },
   "outputs": [],
   "source": [
    "y = -y"
   ]
  },
  {
   "cell_type": "code",
   "execution_count": 154,
   "metadata": {},
   "outputs": [
    {
     "data": {
      "text/plain": [
       "(0.057460365244789348, 0.1010293509591651, 0.10848280840607764)"
      ]
     },
     "execution_count": 154,
     "metadata": {},
     "output_type": "execute_result"
    }
   ],
   "source": [
    "(y[2],y[11],y[36])"
   ]
  },
  {
   "cell_type": "code",
   "execution_count": 155,
   "metadata": {},
   "outputs": [
    {
     "data": {
      "text/plain": [
       "(0.047033764877242069, 0.067764640935865594, 0.022898505380490472)"
      ]
     },
     "execution_count": 155,
     "metadata": {},
     "output_type": "execute_result"
    }
   ],
   "source": [
    "(y[3],y[12],y[37])"
   ]
  },
  {
   "cell_type": "code",
   "execution_count": 156,
   "metadata": {},
   "outputs": [
    {
     "name": "stdout",
     "output_type": "stream",
     "text": [
      "Succeeds!\n"
     ]
    }
   ],
   "source": [
    "# Test\n",
    "for i in range(0,199):\n",
    "    if not np.allclose(np.dot(y,A[i,:]),0):\n",
    "        print(\"Failed at index %d\" %i)\n",
    "        break\n",
    "    if i == 198:\n",
    "        print(\"Succeeds!\")"
   ]
  },
  {
   "cell_type": "markdown",
   "metadata": {},
   "source": [
    "### Part (b)\n",
    "What is the ratio $\\frac{\\sigma_1}{\\sigma_n}$, where $\\sigma_i$ is the $i$th largest singular value of $A$?"
   ]
  },
  {
   "cell_type": "code",
   "execution_count": 42,
   "metadata": {},
   "outputs": [
    {
     "data": {
      "text/plain": [
       "1472.0413891117878"
      ]
     },
     "execution_count": 42,
     "metadata": {},
     "output_type": "execute_result"
    }
   ],
   "source": [
    "u,s,v = np.linalg.svd(A)\n",
    "s[0]/s[-1]"
   ]
  },
  {
   "cell_type": "markdown",
   "metadata": {},
   "source": [
    "## Problem \\#3\n",
    "What are the first six terms of the Taylor series expansion at a point $(\\alpha, \\beta)$ for the function\n",
    "$$f(x,y) = x^2 + (y-2)^4 + x^2 y^4$$"
   ]
  },
  {
   "cell_type": "markdown",
   "metadata": {},
   "source": [
    "$$\\alpha^2 + (\\beta-2)^2 + \\alpha^2\\beta^4 + 2\\alpha(1+\\beta^4)(x-\\alpha) + 4(\\alpha^2\\beta^3 + (\\beta-2)^3)(y-\\beta)$$"
   ]
  },
  {
   "cell_type": "markdown",
   "metadata": {},
   "source": [
    "## Problem \\#4\n",
    "For the same $f(x,y)$ as above, what is $\\nabla f (3,1)$?"
   ]
  },
  {
   "cell_type": "markdown",
   "metadata": {},
   "source": [
    "[gradient](https://tinyurl.com/y74oj38e)\n",
    "\n",
    "[evaluation](https://tinyurl.com/ycl6o925)"
   ]
  },
  {
   "cell_type": "markdown",
   "metadata": {},
   "source": [
    "## Problem \\#5\n",
    "Consider the curves\n",
    "$$C_1 = \\{(x,y) \\mid y = 1/x, x > 0 \\}$$\n",
    "$$C_2 = \\{(w,z) \\mid (w-5)^2 + (z-2)^2 = 1 \\}$$\n",
    "What points on $C_1$ and $C_2$ are closest to each other?"
   ]
  },
  {
   "cell_type": "markdown",
   "metadata": {},
   "source": [
    "Consider solving\n",
    "$$\\min_{\\substack{(x,y) \\in C_1 \\\\ (w,z) \\in C_2}} d((x,y),(w,z))$$"
   ]
  },
  {
   "cell_type": "markdown",
   "metadata": {},
   "source": [
    "This is equivalent to\n",
    "$$\\min_{\\substack{(x,y) \\in C_1 \\\\ (w,z) \\in C_2}} (x - w)^2 + (y - z)^2$$"
   ]
  },
  {
   "cell_type": "markdown",
   "metadata": {},
   "source": [
    "Since $C_2$ defines a circle centered at $(5,2)$, a simple argument suffices to show that this is equivalent to solving\n",
    "$$\\min_{(x,y) \\in C_1} (x - 5)^2 + (y - 2)^2$$"
   ]
  },
  {
   "cell_type": "markdown",
   "metadata": {},
   "source": [
    "By substitution of $y$, using the definition of $C_1$, this is equivalent to \n",
    "$$\\min_{x > 0} \\quad (x - 5)^2 + (x^{-1} - 2 )^2$$"
   ]
  },
  {
   "cell_type": "markdown",
   "metadata": {},
   "source": [
    "The derivative of this function is \n",
    "$$2(-x^{-3} + 2x^{-2} + x -5)$$"
   ]
  },
  {
   "cell_type": "markdown",
   "metadata": {},
   "source": [
    "[Solve for x when set equal to zero](https://tinyurl.com/y9pty4zp)"
   ]
  },
  {
   "cell_type": "code",
   "execution_count": 64,
   "metadata": {
    "collapsed": true
   },
   "outputs": [],
   "source": [
    "# solve for y\n",
    "x = 4.92594\n",
    "y = 1./x"
   ]
  },
  {
   "cell_type": "code",
   "execution_count": 65,
   "metadata": {},
   "outputs": [
    {
     "data": {
      "text/plain": [
       "0.2030069387771674"
      ]
     },
     "execution_count": 65,
     "metadata": {},
     "output_type": "execute_result"
    }
   ],
   "source": [
    "y"
   ]
  },
  {
   "cell_type": "code",
   "execution_count": 66,
   "metadata": {},
   "outputs": [
    {
     "data": {
      "text/plain": [
       "(4.92594, 0.2030069387771674)"
      ]
     },
     "execution_count": 66,
     "metadata": {},
     "output_type": "execute_result"
    }
   ],
   "source": [
    "(x,y)"
   ]
  },
  {
   "cell_type": "code",
   "execution_count": 67,
   "metadata": {},
   "outputs": [
    {
     "data": {
      "text/plain": [
       "array([-0.07406   , -1.79699306])"
      ]
     },
     "execution_count": 67,
     "metadata": {},
     "output_type": "execute_result"
    }
   ],
   "source": [
    "# solve for the vector connecting (x,y) to (5,2)\n",
    "s = np.array([x-5,y-2])\n",
    "s"
   ]
  },
  {
   "cell_type": "code",
   "execution_count": 68,
   "metadata": {},
   "outputs": [
    {
     "data": {
      "text/plain": [
       "(4.9588216644570524, 1.0008481873699511)"
      ]
     },
     "execution_count": 68,
     "metadata": {},
     "output_type": "execute_result"
    }
   ],
   "source": [
    "# normalize and scale\n",
    "nm = np.linalg.norm(s)\n",
    "w = s[0]/nm+5\n",
    "z = s[1]/nm+2\n",
    "(w,z)"
   ]
  },
  {
   "cell_type": "code",
   "execution_count": 69,
   "metadata": {},
   "outputs": [
    {
     "data": {
      "text/plain": [
       "1.0"
      ]
     },
     "execution_count": 69,
     "metadata": {},
     "output_type": "execute_result"
    }
   ],
   "source": [
    "# Test\n",
    "(w-5)**2 + (z-2)**2"
   ]
  },
  {
   "cell_type": "code",
   "execution_count": 70,
   "metadata": {},
   "outputs": [
    {
     "data": {
      "text/plain": [
       "0.79851854193472449"
      ]
     },
     "execution_count": 70,
     "metadata": {},
     "output_type": "execute_result"
    }
   ],
   "source": [
    "# Print the distance\n",
    "np.linalg.norm([x-w,y-z])"
   ]
  },
  {
   "cell_type": "markdown",
   "metadata": {},
   "source": [
    "Of course, this solution can also be obtained by way of stochastic gradient descent (not implemented here)."
   ]
  },
  {
   "cell_type": "markdown",
   "metadata": {},
   "source": [
    "## Problem \\#6\n",
    "Shuffle a normal deck of 52 playing cards and draw three cards."
   ]
  },
  {
   "cell_type": "markdown",
   "metadata": {},
   "source": [
    "### Part (a)\n",
    "What is the probability that they are the same suit in increasing rank?"
   ]
  },
  {
   "cell_type": "code",
   "execution_count": 24,
   "metadata": {
    "collapsed": true
   },
   "outputs": [],
   "source": [
    "def choose(n, k):\n",
    "    \"\"\"\n",
    "    A fast way to calculate binomial coefficients by Andrew Dalke (contrib).\n",
    "    \"\"\"\n",
    "    if 0 <= k <= n:\n",
    "        ntok = 1\n",
    "        ktok = 1\n",
    "        for t in xrange(1, min(k, n - k) + 1):\n",
    "            ntok *= n\n",
    "            ktok *= t\n",
    "            n -= 1\n",
    "        return ntok // ktok\n",
    "    else:\n",
    "        return 0"
   ]
  },
  {
   "cell_type": "code",
   "execution_count": 25,
   "metadata": {
    "collapsed": true
   },
   "outputs": [],
   "source": [
    "# the total number of possible triples\n",
    "tot = choose(52,3)*6"
   ]
  },
  {
   "cell_type": "code",
   "execution_count": 26,
   "metadata": {},
   "outputs": [
    {
     "data": {
      "text/plain": [
       "0.008627450980392156"
      ]
     },
     "execution_count": 26,
     "metadata": {},
     "output_type": "execute_result"
    }
   ],
   "source": [
    "# the total number of acceptable triples over the total number of triples\n",
    "float(choose(13,3)*4)/tot"
   ]
  },
  {
   "cell_type": "code",
   "execution_count": 27,
   "metadata": {},
   "outputs": [
    {
     "data": {
      "text/plain": [
       "0.008627450980392156"
      ]
     },
     "execution_count": 27,
     "metadata": {},
     "output_type": "execute_result"
    }
   ],
   "source": [
    "# Test\n",
    "# Count all possible acceptable triples and divide by all possible triples\n",
    "trips = [(i,j,k) for i in range(1,12) for j in range(i+1,13) for k in range(j+1,14)]\n",
    "float(len(trips)*4)/tot"
   ]
  },
  {
   "cell_type": "code",
   "execution_count": 28,
   "metadata": {},
   "outputs": [
    {
     "data": {
      "text/plain": [
       "[(1, 2, 3),\n",
       " (1, 2, 4),\n",
       " (1, 2, 5),\n",
       " (1, 2, 6),\n",
       " (1, 2, 7),\n",
       " (1, 2, 8),\n",
       " (1, 2, 9),\n",
       " (1, 2, 10),\n",
       " (1, 2, 11),\n",
       " (1, 2, 12),\n",
       " (1, 2, 13),\n",
       " (1, 3, 4),\n",
       " (1, 3, 5),\n",
       " (1, 3, 6),\n",
       " (1, 3, 7),\n",
       " (1, 3, 8),\n",
       " (1, 3, 9),\n",
       " (1, 3, 10),\n",
       " (1, 3, 11),\n",
       " (1, 3, 12)]"
      ]
     },
     "execution_count": 28,
     "metadata": {},
     "output_type": "execute_result"
    }
   ],
   "source": [
    "# Examine the acceptable triples. Bear in mind there are four of each type\n",
    "trips[:20]"
   ]
  },
  {
   "cell_type": "markdown",
   "metadata": {},
   "source": [
    "### Part (b)\n",
    "Given that the first two cards you drew from the deck are of different suits, what is the probability that they are all of different suits?"
   ]
  },
  {
   "cell_type": "code",
   "execution_count": 29,
   "metadata": {},
   "outputs": [
    {
     "data": {
      "text/plain": [
       "0.52"
      ]
     },
     "execution_count": 29,
     "metadata": {},
     "output_type": "execute_result"
    }
   ],
   "source": [
    "# Much simpler.\n",
    "26./50"
   ]
  },
  {
   "cell_type": "markdown",
   "metadata": {},
   "source": [
    "## Problem \\#7\n",
    "The random variables $X$ and $Y$ have a joint pdf $p(X,Y)$ with distribution $(X,Y) \\sim \\mathcal{N}((\\mu_X,\\mu_Y)),\\Sigma)$, where $(\\mu_X,\\mu_Y) = (2, -1)$ and \n",
    "$$ \\Sigma = \n",
    "\\begin{bmatrix}\n",
    "1 & 0 \\\\\n",
    "0 & 2\n",
    "\\end{bmatrix}$$\n",
    "\n",
    "Assume throughout that $(x,y) \\sim p(X,Y)$"
   ]
  },
  {
   "cell_type": "markdown",
   "metadata": {},
   "source": [
    "### Part (a)\n",
    "What is $\\mathbb{P} ( x \\in [0,2])$?"
   ]
  },
  {
   "cell_type": "markdown",
   "metadata": {},
   "source": [
    "Note that the covariance matrix of $p(X,Y)$ has zeros on the cross-diagonal entries. This implies that $X$ and $Y$ are independent of one another. Hence, we have that $X \\sim \\mathcal{N}(2,1)$ and $Y \\sim \\mathcal{N}(-1,2)$. \n",
    "\n",
    "Thus, $\\mathbb{P} ( x \\in [0,2]) = \\int_0^2 \\int_{-\\infty}^\\infty p(X,Y) dY dX = \\int_0^2 p(X) dX$"
   ]
  },
  {
   "cell_type": "code",
   "execution_count": 30,
   "metadata": {
    "collapsed": true
   },
   "outputs": [],
   "source": [
    "# Create given normal variables\n",
    "X = norm(loc=2,scale=1)\n",
    "Y = norm(loc=-1,scale=np.sqrt(2))"
   ]
  },
  {
   "cell_type": "code",
   "execution_count": 71,
   "metadata": {},
   "outputs": [
    {
     "data": {
      "text/plain": [
       "0.47724986805182079"
      ]
     },
     "execution_count": 71,
     "metadata": {},
     "output_type": "execute_result"
    }
   ],
   "source": [
    "X.cdf(2) - X.cdf(0)"
   ]
  },
  {
   "cell_type": "code",
   "execution_count": 72,
   "metadata": {},
   "outputs": [
    {
     "data": {
      "text/plain": [
       "0.22280263433113212"
      ]
     },
     "execution_count": 72,
     "metadata": {},
     "output_type": "execute_result"
    }
   ],
   "source": [
    "Y.cdf(2) - Y.cdf(0)"
   ]
  },
  {
   "cell_type": "markdown",
   "metadata": {},
   "source": [
    "### Part (b)\n",
    "What is $\\mathbb{P} ( x \\in [0,2] \\vee y \\in [0,2])$?"
   ]
  },
  {
   "cell_type": "code",
   "execution_count": 32,
   "metadata": {},
   "outputs": [
    {
     "data": {
      "text/plain": [
       "0.59371997454682202"
      ]
     },
     "execution_count": 32,
     "metadata": {},
     "output_type": "execute_result"
    }
   ],
   "source": [
    "(X.cdf(2) - X.cdf(0)) + (Y.cdf(2) - Y.cdf(0)) - ((X.cdf(2) - X.cdf(0))*(Y.cdf(2) - Y.cdf(0)))"
   ]
  },
  {
   "cell_type": "markdown",
   "metadata": {},
   "source": [
    "### Part (c)\n",
    "What is $\\mathbb{P} ( x \\in [0,2] \\wedge y \\in [0,2])$?"
   ]
  },
  {
   "cell_type": "code",
   "execution_count": 33,
   "metadata": {},
   "outputs": [
    {
     "data": {
      "text/plain": [
       "0.10633252783613088"
      ]
     },
     "execution_count": 33,
     "metadata": {},
     "output_type": "execute_result"
    }
   ],
   "source": [
    "(X.cdf(2) - X.cdf(0))*(Y.cdf(2) - Y.cdf(0))"
   ]
  }
 ],
 "metadata": {
  "kernelspec": {
   "display_name": "Python 2",
   "language": "python",
   "name": "python2"
  },
  "language_info": {
   "codemirror_mode": {
    "name": "ipython",
    "version": 2
   },
   "file_extension": ".py",
   "mimetype": "text/x-python",
   "name": "python",
   "nbconvert_exporter": "python",
   "pygments_lexer": "ipython2",
   "version": "2.7.13"
  }
 },
 "nbformat": 4,
 "nbformat_minor": 2
}
