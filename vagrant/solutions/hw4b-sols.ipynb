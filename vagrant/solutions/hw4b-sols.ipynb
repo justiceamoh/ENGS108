{
 "cells": [
  {
   "cell_type": "code",
   "execution_count": 1,
   "metadata": {
    "collapsed": true
   },
   "outputs": [],
   "source": [
    "import numpy as np\n",
    "import matplotlib.pyplot as plt\n",
    "\n",
    "from matplotlib.collections import LineCollection\n",
    "from scipy.io import loadmat"
   ]
  },
  {
   "cell_type": "code",
   "execution_count": 2,
   "metadata": {
    "collapsed": true
   },
   "outputs": [],
   "source": [
    "def load(fname):\n",
    "    matdict = loadmat(fname)\n",
    "    fl = np.array(matdict[\"FL\"])\n",
    "    flcost = np.array(matdict[\"FLCost\"])\n",
    "    return fl, flcost"
   ]
  },
  {
   "cell_type": "code",
   "execution_count": 13,
   "metadata": {},
   "outputs": [],
   "source": [
    "fl,flcost = load(\"../dataset/hw4/h4b1.mat\")"
   ]
  },
  {
   "cell_type": "code",
   "execution_count": 56,
   "metadata": {},
   "outputs": [
    {
     "data": {
      "text/plain": [
       "2"
      ]
     },
     "execution_count": 56,
     "metadata": {},
     "output_type": "execute_result"
    }
   ],
   "source": [
    "np.argmax(np.random.multinomial(1,fl[0,0,0,:]))"
   ]
  },
  {
   "cell_type": "code",
   "execution_count": 8,
   "metadata": {},
   "outputs": [],
   "source": [
    "def init_policy(n):\n",
    "    return np.random.randint(1,5,shape=(n,n))"
   ]
  },
  {
   "cell_type": "code",
   "execution_count": 185,
   "metadata": {},
   "outputs": [],
   "source": [
    "def init_q(n):\n",
    "    q = np.ones((n,n,4)) + np.random.randn(n,n,4)*0.1\n",
    "    q[0,:,0] = np.zeros(n)\n",
    "    q[-1,:,2] = np.zeros(n)\n",
    "    q[:,0,-1] = np.zeros(n)\n",
    "    q[:,-1,1] = np.zeros(n)\n",
    "    q[:,:,0] = q[:,:,0]/2\n",
    "    q[:,:,3] = q[:,:,3]/2\n",
    "    return q"
   ]
  },
  {
   "cell_type": "code",
   "execution_count": 106,
   "metadata": {
    "collapsed": true
   },
   "outputs": [],
   "source": [
    "def step(i,j,a,fl):\n",
    "    # sample from transition array and return new transition\n",
    "    a = np.argmax(np.random.multinomial(1,fl[i,j,a,:]))\n",
    "    if a==0: #up\n",
    "        return (i-1,j)\n",
    "    elif a==1: #right\n",
    "        return (i,j+1)\n",
    "    elif a==2: #down\n",
    "        return (i+1,j)\n",
    "    elif a==3: #left\n",
    "        return (i,j-1)"
   ]
  },
  {
   "cell_type": "code",
   "execution_count": 164,
   "metadata": {
    "collapsed": true
   },
   "outputs": [],
   "source": [
    "def policy(q):\n",
    "    return np.argmax(q,axis=2)"
   ]
  },
  {
   "cell_type": "code",
   "execution_count": 186,
   "metadata": {},
   "outputs": [],
   "source": [
    "def q_learning(fname,lr=0.8,y=1.,num_episodes=10000):\n",
    "    fl,flcost = load(fname)\n",
    "    n = fl.shape[0]\n",
    "    Q = init_q(n)\n",
    "    rList = []\n",
    "    for it in range(num_episodes):\n",
    "        #Reset environment and get first new observation\n",
    "        i,j = (0,0)\n",
    "        rAll = 0\n",
    "        #The Q-Table learning algorithm\n",
    "        while True:\n",
    "            a = np.argmax(Q[i,j,:])\n",
    "            #Get new state and reward from environment\n",
    "            i0,j0 = step(i,j,a,fl)\n",
    "            r = flcost[i0,j0]\n",
    "            #Update Q-Table with new knowledge\n",
    "            Q[i,j,a] = Q[i,j,a] + lr*(r + y*np.max(Q[i0,j0,:]) - Q[i,j,a])\n",
    "            rAll += r\n",
    "            i,j = (i0,j0)\n",
    "            if i==n-1 and j==n-1:\n",
    "                if (it %500 == 0):\n",
    "                    print(\"iteration {} completed\".format(it))\n",
    "                break\n",
    "        rList.append(rAll)\n",
    "    return Q,rList"
   ]
  },
  {
   "cell_type": "code",
   "execution_count": 187,
   "metadata": {},
   "outputs": [
    {
     "name": "stdout",
     "output_type": "stream",
     "text": [
      "iteration 0 completed\n",
      "iteration 500 completed\n",
      "iteration 1000 completed\n",
      "iteration 1500 completed\n",
      "iteration 2000 completed\n",
      "iteration 2500 completed\n",
      "iteration 3000 completed\n",
      "iteration 3500 completed\n",
      "iteration 4000 completed\n",
      "iteration 4500 completed\n",
      "iteration 5000 completed\n",
      "iteration 5500 completed\n",
      "iteration 6000 completed\n",
      "iteration 6500 completed\n",
      "iteration 7000 completed\n",
      "iteration 7500 completed\n",
      "iteration 8000 completed\n",
      "iteration 8500 completed\n",
      "iteration 9000 completed\n",
      "iteration 9500 completed\n"
     ]
    }
   ],
   "source": [
    "q,rList = q_learning(\"../dataset/hw4/h4b1.mat\")"
   ]
  },
  {
   "cell_type": "code",
   "execution_count": 190,
   "metadata": {},
   "outputs": [
    {
     "data": {
      "text/plain": [
       "array([  -817.74975696, -17020.53300426, -12168.69517969, -11586.4076239 ])"
      ]
     },
     "execution_count": 190,
     "metadata": {},
     "output_type": "execute_result"
    }
   ],
   "source": [
    "q[-2,-1,:]"
   ]
  }
 ],
 "metadata": {
  "kernelspec": {
   "display_name": "Python 2",
   "language": "python",
   "name": "python2"
  },
  "language_info": {
   "codemirror_mode": {
    "name": "ipython",
    "version": 2
   },
   "file_extension": ".py",
   "mimetype": "text/x-python",
   "name": "python",
   "nbconvert_exporter": "python",
   "pygments_lexer": "ipython2",
   "version": "2.7.14"
  }
 },
 "nbformat": 4,
 "nbformat_minor": 2
}
