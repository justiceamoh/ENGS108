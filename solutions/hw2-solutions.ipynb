{
 "cells": [
  {
   "cell_type": "markdown",
   "metadata": {},
   "source": [
    "# HW \\#2\n",
    "Imports and dependencies"
   ]
  },
  {
   "cell_type": "code",
   "execution_count": 1,
   "metadata": {
    "collapsed": true
   },
   "outputs": [],
   "source": [
    "import numpy as np\n",
    "import pandas as pd\n",
    "import matplotlib.pyplot as plt\n",
    "import sklearn\n",
    "\n",
    "from scipy.stats import norm\n",
    "from scipy.io import loadmat\n",
    "from sklearn.cluster import KMeans\n",
    "\n",
    "%matplotlib inline"
   ]
  },
  {
   "cell_type": "markdown",
   "metadata": {},
   "source": [
    "## KMeans Clustering\n"
   ]
  },
  {
   "cell_type": "code",
   "execution_count": 55,
   "metadata": {},
   "outputs": [
    {
     "data": {
      "text/html": [
       "<div>\n",
       "<style>\n",
       "    .dataframe thead tr:only-child th {\n",
       "        text-align: right;\n",
       "    }\n",
       "\n",
       "    .dataframe thead th {\n",
       "        text-align: left;\n",
       "    }\n",
       "\n",
       "    .dataframe tbody tr th {\n",
       "        vertical-align: top;\n",
       "    }\n",
       "</style>\n",
       "<table border=\"1\" class=\"dataframe\">\n",
       "  <thead>\n",
       "    <tr style=\"text-align: right;\">\n",
       "      <th></th>\n",
       "      <th>x1</th>\n",
       "      <th>x2</th>\n",
       "    </tr>\n",
       "  </thead>\n",
       "  <tbody>\n",
       "    <tr>\n",
       "      <th>0</th>\n",
       "      <td>24.8697</td>\n",
       "      <td>14.6393</td>\n",
       "    </tr>\n",
       "    <tr>\n",
       "      <th>1</th>\n",
       "      <td>23.3448</td>\n",
       "      <td>16.4908</td>\n",
       "    </tr>\n",
       "    <tr>\n",
       "      <th>2</th>\n",
       "      <td>26.6545</td>\n",
       "      <td>22.6042</td>\n",
       "    </tr>\n",
       "    <tr>\n",
       "      <th>3</th>\n",
       "      <td>21.8222</td>\n",
       "      <td>27.1835</td>\n",
       "    </tr>\n",
       "    <tr>\n",
       "      <th>4</th>\n",
       "      <td>25.8840</td>\n",
       "      <td>6.3294</td>\n",
       "    </tr>\n",
       "  </tbody>\n",
       "</table>\n",
       "</div>"
      ],
      "text/plain": [
       "        x1       x2\n",
       "0  24.8697  14.6393\n",
       "1  23.3448  16.4908\n",
       "2  26.6545  22.6042\n",
       "3  21.8222  27.1835\n",
       "4  25.8840   6.3294"
      ]
     },
     "execution_count": 55,
     "metadata": {},
     "output_type": "execute_result"
    }
   ],
   "source": [
    "# Load the matrix into memory, assuming for now that it is stored in the home directory\n",
    "synth_all = pd.read_csv(\"/home/vagrant/repos/ENGS108/dataset/hw2/clustering/synth_all.csv\")\n",
    "synth_all.head()"
   ]
  },
  {
   "cell_type": "markdown",
   "metadata": {},
   "source": [
    "# 1. Data Inspection"
   ]
  },
  {
   "cell_type": "markdown",
   "metadata": {},
   "source": [
    "### Part (a)\n",
    "Visualize the training data"
   ]
  },
  {
   "cell_type": "code",
   "execution_count": 56,
   "metadata": {},
   "outputs": [
    {
     "data": {
      "text/plain": [
       "<matplotlib.collections.PathCollection at 0x7f9eb9402250>"
      ]
     },
     "execution_count": 56,
     "metadata": {},
     "output_type": "execute_result"
    },
    {
     "data": {
      "image/png": "[encoded data removed]",
      "text/plain": [
       "<matplotlib.figure.Figure at 0x7f9eb3708cd0>"
      ]
     },
     "metadata": {},
     "output_type": "display_data"
    }
   ],
   "source": [
    "plt.scatter(synth_all.x1,synth_all.x2)"
   ]
  },
  {
   "cell_type": "markdown",
   "metadata": {},
   "source": [
    "### Part (b)\n",
    "There appear to be 31 clusters"
   ]
  },
  {
   "cell_type": "markdown",
   "metadata": {},
   "source": [
    "## \\#2 KMeans Fitting"
   ]
  },
  {
   "cell_type": "code",
   "execution_count": 60,
   "metadata": {
    "collapsed": true
   },
   "outputs": [],
   "source": [
    "def tune_kmeans_model(data, ks):\n",
    "    \"\"\"\n",
    "    Initializes a len(ks) number of KMeans models and outputs the Baysian\n",
    "    Information Criterion (bic) and Akaike Information Criterion (aic)\n",
    "    for each setting of the parameters specified in the list ks. \n",
    "    \"\"\"\n",
    "    # Set the size of the input data\n",
    "    n = data.shape[0]\n",
    "    # intialize the returns\n",
    "    bic = np.zeros(ks.shape)\n",
    "    aic = np.zeros(ks.shape)\n",
    "    for (i,k) in enumerate(ks):\n",
    "        # fit the model to the data\n",
    "        model = KMeans(n_clusters=k)\n",
    "        model.fit(data)\n",
    "        # compute the residual sum of squares\n",
    "        cluster_idx = model.predict(data)\n",
    "        rss = float(((synth_all - model.cluster_centers_[cluster_idx])**2).sum().sum())\n",
    "        bic[i] = n*np.log(rss/n) + k*np.log(n)\n",
    "        aic[i] = n*np.log(rss/n) + 2*k\n",
    "    return bic, aic"
   ]
  },
  {
   "cell_type": "code",
   "execution_count": 61,
   "metadata": {
    "collapsed": true
   },
   "outputs": [],
   "source": [
    "ks = np.array(range(2,60))\n",
    "bic,aic = tune_kmeans_model(synth_all, ks)"
   ]
  },
  {
   "cell_type": "code",
   "execution_count": 62,
   "metadata": {},
   "outputs": [
    {
     "data": {
      "image/png": "[encoded data removed]",
      "text/plain": [
       "<matplotlib.figure.Figure at 0x7f9eb3bfd910>"
      ]
     },
     "metadata": {},
     "output_type": "display_data"
    }
   ],
   "source": [
    "plt.plot(ks,bic,'bo',ks,aic,'r.')\n",
    "plt.show()"
   ]
  },
  {
   "cell_type": "markdown",
   "metadata": {},
   "source": [
    "## KNN Classification"
   ]
  },
  {
   "cell_type": "code",
   "execution_count": 52,
   "metadata": {
    "collapsed": true
   },
   "outputs": [],
   "source": [
    "from sklearn.neighbors import KNeighborsClassifier as KNN"
   ]
  },
  {
   "cell_type": "code",
   "execution_count": 53,
   "metadata": {},
   "outputs": [
    {
     "data": {
      "text/html": [
       "<div>\n",
       "<style>\n",
       "    .dataframe thead tr:only-child th {\n",
       "        text-align: right;\n",
       "    }\n",
       "\n",
       "    .dataframe thead th {\n",
       "        text-align: left;\n",
       "    }\n",
       "\n",
       "    .dataframe tbody tr th {\n",
       "        vertical-align: top;\n",
       "    }\n",
       "</style>\n",
       "<table border=\"1\" class=\"dataframe\">\n",
       "  <thead>\n",
       "    <tr style=\"text-align: right;\">\n",
       "      <th></th>\n",
       "      <th>x1</th>\n",
       "      <th>x2</th>\n",
       "      <th>y</th>\n",
       "    </tr>\n",
       "  </thead>\n",
       "  <tbody>\n",
       "    <tr>\n",
       "      <th>0</th>\n",
       "      <td>7.8704</td>\n",
       "      <td>10.9570</td>\n",
       "      <td>3</td>\n",
       "    </tr>\n",
       "    <tr>\n",
       "      <th>1</th>\n",
       "      <td>6.0672</td>\n",
       "      <td>19.8695</td>\n",
       "      <td>5</td>\n",
       "    </tr>\n",
       "    <tr>\n",
       "      <th>2</th>\n",
       "      <td>21.8544</td>\n",
       "      <td>11.1640</td>\n",
       "      <td>27</td>\n",
       "    </tr>\n",
       "    <tr>\n",
       "      <th>3</th>\n",
       "      <td>16.1826</td>\n",
       "      <td>8.8962</td>\n",
       "      <td>13</td>\n",
       "    </tr>\n",
       "    <tr>\n",
       "      <th>4</th>\n",
       "      <td>9.1837</td>\n",
       "      <td>9.8484</td>\n",
       "      <td>3</td>\n",
       "    </tr>\n",
       "  </tbody>\n",
       "</table>\n",
       "</div>"
      ],
      "text/plain": [
       "        x1       x2   y\n",
       "0   7.8704  10.9570   3\n",
       "1   6.0672  19.8695   5\n",
       "2  21.8544  11.1640  27\n",
       "3  16.1826   8.8962  13\n",
       "4   9.1837   9.8484   3"
      ]
     },
     "execution_count": 53,
     "metadata": {},
     "output_type": "execute_result"
    }
   ],
   "source": [
    "synth_train = pd.read_csv(\"/home/vagrant/repos/ENGS108/dataset/hw2/clustering/synth_train.csv\")\n",
    "synth_valid = pd.read_csv(\"/home/vagrant/repos/ENGS108/dataset/hw2/clustering/synth_valid.csv\")\n",
    "synth_test = pd.read_csv(\"/home/vagrant/repos/ENGS108/dataset/hw2/clustering/synth_test.csv\")\n",
    "synth_train.head()"
   ]
  },
  {
   "cell_type": "code",
   "execution_count": 39,
   "metadata": {
    "collapsed": true
   },
   "outputs": [],
   "source": [
    "def tune_knn_model(data, valid, ks):\n",
    "    \"\"\"\n",
    "    Initializes a len(ks) number of KNN models and outputs the training and \n",
    "    classification accuracy for each setting of the parameters specified in \n",
    "    the list ks. \n",
    "    \"\"\"\n",
    "    # Set the sizes of the input data\n",
    "    n_data = data.shape[0]\n",
    "    n_valid = valid.shape[0]\n",
    "    # initialize returns\n",
    "    train_accuracy = np.zeros(ks.shape)\n",
    "    valid_accuracy = np.zeros(ks.shape)\n",
    "    for (i,k) in enumerate(ks):\n",
    "        # Instantiate and train model\n",
    "        model = KNN(n_neighbors=k)\n",
    "        model.fit(data[['x1','x2']], data.y)\n",
    "        # Predict labels on training data\n",
    "        train_ys = model.predict(data[['x1','x2']])\n",
    "        # Predict labels on validation data\n",
    "        valid_ys = model.predict(valid[['x1','x2']])\n",
    "        # Compute accuracy of training classifcation\n",
    "        train_accuracy[i] = float(np.sum(np.equal(data.y, train_ys)))/n_data\n",
    "        # Compute accuracy of validation classification\n",
    "        valid_accuracy[i] = float(np.sum(np.equal(valid.y, valid_ys)))/n_valid\n",
    "    return train_accuracy, valid_accuracy"
   ]
  },
  {
   "cell_type": "code",
   "execution_count": 42,
   "metadata": {
    "collapsed": true
   },
   "outputs": [],
   "source": [
    "ks = np.array(range(1,160))\n",
    "tacc,vacc = tune_knn_model(synth_train, synth_valid, ks)"
   ]
  },
  {
   "cell_type": "code",
   "execution_count": 43,
   "metadata": {},
   "outputs": [
    {
     "data": {
      "image/png": "[encoded data removed]",
      "text/plain": [
       "<matplotlib.figure.Figure at 0x7f9eb3708090>"
      ]
     },
     "metadata": {},
     "output_type": "display_data"
    }
   ],
   "source": [
    "plt.plot(ks,tacc,'bo',ks,vacc,'r.')\n",
    "plt.show()"
   ]
  },
  {
   "cell_type": "markdown",
   "metadata": {},
   "source": [
    "It appears that a setting for $k$ from anywhere from $3$ to $\\sim 105$ has good performance. Why does the performance degrade as $k$ gets larger?"
   ]
  },
  {
   "cell_type": "code",
   "execution_count": 47,
   "metadata": {},
   "outputs": [
    {
     "name": "stdout",
     "output_type": "stream",
     "text": [
      "Classification accuracy on the test set: 0.979570\n"
     ]
    }
   ],
   "source": [
    "# Here we chose k = 20\n",
    "model = KNN(n_neighbors=20)\n",
    "n = synth_test.shape[0]\n",
    "model.fit(synth_train[['x1','x2']], synth_train.y)\n",
    "ys = model.predict(synth_test[['x1','x2']])\n",
    "accuracy = float(np.sum(np.equal(synth_test.y, ys)))/n\n",
    "print('Classification accuracy on the test set: %f' % accuracy)"
   ]
  },
  {
   "cell_type": "markdown",
   "metadata": {},
   "source": [
    "# Decision Tree Classification"
   ]
  },
  {
   "cell_type": "code",
   "execution_count": 63,
   "metadata": {},
   "outputs": [
    {
     "data": {
      "text/html": [
       "<div>\n",
       "<style>\n",
       "    .dataframe thead tr:only-child th {\n",
       "        text-align: right;\n",
       "    }\n",
       "\n",
       "    .dataframe thead th {\n",
       "        text-align: left;\n",
       "    }\n",
       "\n",
       "    .dataframe tbody tr th {\n",
       "        vertical-align: top;\n",
       "    }\n",
       "</style>\n",
       "<table border=\"1\" class=\"dataframe\">\n",
       "  <thead>\n",
       "    <tr style=\"text-align: right;\">\n",
       "      <th></th>\n",
       "      <th>fixed acidity</th>\n",
       "      <th>volatile acidity</th>\n",
       "      <th>citric acid</th>\n",
       "      <th>residual sugar</th>\n",
       "      <th>chlorides</th>\n",
       "      <th>free sulfur dioxide</th>\n",
       "      <th>total sulfur dioxide</th>\n",
       "      <th>density</th>\n",
       "      <th>pH</th>\n",
       "      <th>sulphates</th>\n",
       "      <th>alcohol</th>\n",
       "      <th>quality</th>\n",
       "    </tr>\n",
       "  </thead>\n",
       "  <tbody>\n",
       "    <tr>\n",
       "      <th>0</th>\n",
       "      <td>7.1</td>\n",
       "      <td>0.63</td>\n",
       "      <td>0.06</td>\n",
       "      <td>2.0</td>\n",
       "      <td>0.083</td>\n",
       "      <td>8.0</td>\n",
       "      <td>29.0</td>\n",
       "      <td>0.99855</td>\n",
       "      <td>3.67</td>\n",
       "      <td>0.73</td>\n",
       "      <td>9.6</td>\n",
       "      <td>5</td>\n",
       "    </tr>\n",
       "    <tr>\n",
       "      <th>1</th>\n",
       "      <td>7.5</td>\n",
       "      <td>0.41</td>\n",
       "      <td>0.15</td>\n",
       "      <td>3.7</td>\n",
       "      <td>0.104</td>\n",
       "      <td>29.0</td>\n",
       "      <td>94.0</td>\n",
       "      <td>0.99786</td>\n",
       "      <td>3.14</td>\n",
       "      <td>0.58</td>\n",
       "      <td>9.1</td>\n",
       "      <td>5</td>\n",
       "    </tr>\n",
       "    <tr>\n",
       "      <th>2</th>\n",
       "      <td>5.6</td>\n",
       "      <td>0.66</td>\n",
       "      <td>0.00</td>\n",
       "      <td>2.2</td>\n",
       "      <td>0.087</td>\n",
       "      <td>3.0</td>\n",
       "      <td>11.0</td>\n",
       "      <td>0.99378</td>\n",
       "      <td>3.71</td>\n",
       "      <td>0.63</td>\n",
       "      <td>12.8</td>\n",
       "      <td>7</td>\n",
       "    </tr>\n",
       "    <tr>\n",
       "      <th>3</th>\n",
       "      <td>7.2</td>\n",
       "      <td>0.50</td>\n",
       "      <td>0.18</td>\n",
       "      <td>2.1</td>\n",
       "      <td>0.071</td>\n",
       "      <td>12.0</td>\n",
       "      <td>31.0</td>\n",
       "      <td>0.99761</td>\n",
       "      <td>3.52</td>\n",
       "      <td>0.72</td>\n",
       "      <td>9.6</td>\n",
       "      <td>6</td>\n",
       "    </tr>\n",
       "    <tr>\n",
       "      <th>4</th>\n",
       "      <td>7.2</td>\n",
       "      <td>0.63</td>\n",
       "      <td>0.00</td>\n",
       "      <td>1.9</td>\n",
       "      <td>0.097</td>\n",
       "      <td>14.0</td>\n",
       "      <td>38.0</td>\n",
       "      <td>0.99675</td>\n",
       "      <td>3.37</td>\n",
       "      <td>0.58</td>\n",
       "      <td>9.0</td>\n",
       "      <td>6</td>\n",
       "    </tr>\n",
       "  </tbody>\n",
       "</table>\n",
       "</div>"
      ],
      "text/plain": [
       "   fixed acidity  volatile acidity  citric acid  residual sugar  chlorides  \\\n",
       "0            7.1              0.63         0.06             2.0      0.083   \n",
       "1            7.5              0.41         0.15             3.7      0.104   \n",
       "2            5.6              0.66         0.00             2.2      0.087   \n",
       "3            7.2              0.50         0.18             2.1      0.071   \n",
       "4            7.2              0.63         0.00             1.9      0.097   \n",
       "\n",
       "   free sulfur dioxide  total sulfur dioxide  density    pH  sulphates  \\\n",
       "0                  8.0                  29.0  0.99855  3.67       0.73   \n",
       "1                 29.0                  94.0  0.99786  3.14       0.58   \n",
       "2                  3.0                  11.0  0.99378  3.71       0.63   \n",
       "3                 12.0                  31.0  0.99761  3.52       0.72   \n",
       "4                 14.0                  38.0  0.99675  3.37       0.58   \n",
       "\n",
       "   alcohol  quality  \n",
       "0      9.6        5  \n",
       "1      9.1        5  \n",
       "2     12.8        7  \n",
       "3      9.6        6  \n",
       "4      9.0        6  "
      ]
     },
     "execution_count": 63,
     "metadata": {},
     "output_type": "execute_result"
    }
   ],
   "source": [
    "red_train = pd.read_csv(\"/home/vagrant/repos/ENGS108/dataset/hw2/classification/red_train.csv\")\n",
    "red_valid = pd.read_csv(\"/home/vagrant/repos/ENGS108/dataset/hw2/classification/red_valid.csv\")\n",
    "red_test = pd.read_csv(\"/home/vagrant/repos/ENGS108/dataset/hw2/classification/red_test.csv\")\n",
    "red_train.head()"
   ]
  },
  {
   "cell_type": "code",
   "execution_count": 64,
   "metadata": {},
   "outputs": [
    {
     "name": "stdout",
     "output_type": "stream",
     "text": [
      "Number of datapoints in each set:\n",
      "\ttrain: 895\n",
      "\tvalid: 224\n",
      "\ttest: 480\n"
     ]
    }
   ],
   "source": [
    "print(\"Number of datapoints in each set:\\n\\ttrain: %d\\n\\tvalid: %d\\n\\ttest: %d\"\n",
    "      % (red_train.shape[0], red_valid.shape[0], red_test.shape[0]))"
   ]
  },
  {
   "cell_type": "code",
   "execution_count": 65,
   "metadata": {},
   "outputs": [
    {
     "name": "stdout",
     "output_type": "stream",
     "text": [
      "# features: 12\n"
     ]
    }
   ],
   "source": [
    "print(\"# features: %d\" % red_train.columns.shape[0])"
   ]
  },
  {
   "cell_type": "code",
   "execution_count": 66,
   "metadata": {},
   "outputs": [
    {
     "name": "stdout",
     "output_type": "stream",
     "text": [
      "Averages for training set:\n",
      "\talcohol: 10.397952\n",
      "\tpH: 3.309542\n"
     ]
    }
   ],
   "source": [
    "print(\"Averages for training set:\\n\\talcohol: %f\\n\\tpH: %f\"\n",
    "     % (np.mean(red_train.alcohol), np.mean(red_train.pH)))"
   ]
  },
  {
   "cell_type": "markdown",
   "metadata": {},
   "source": [
    "Decision Tree Implementation"
   ]
  },
  {
   "cell_type": "code",
   "execution_count": 88,
   "metadata": {
    "collapsed": true
   },
   "outputs": [],
   "source": [
    "from sklearn.tree import DecisionTreeClassifier as DTC"
   ]
  },
  {
   "cell_type": "code",
   "execution_count": 89,
   "metadata": {
    "collapsed": true
   },
   "outputs": [],
   "source": [
    "def tune_decision_tree_model(data, valid, ds, model_type=DTC):\n",
    "    \"\"\"\n",
    "    Initializes a len(ds) number of binary decision tree models and outputs \n",
    "    the training and classification accuracy for each setting of the \n",
    "    parameters specified in the list ks. \n",
    "    \"\"\"\n",
    "    # Set the sizes of the input data\n",
    "    n_data = data.shape[0]\n",
    "    n_valid = valid.shape[0]\n",
    "    # initialize returns\n",
    "    train_accuracy = np.zeros(ds.shape)\n",
    "    valid_accuracy = np.zeros(ds.shape)\n",
    "    for (i,d) in enumerate(ds):\n",
    "        # Train the model given the specified depth\n",
    "        model = model_type(max_depth=d)\n",
    "        features = data.columns.difference(['quality'])\n",
    "        model.fit(data[features], data.quality)\n",
    "        # Compute predicted labels for training and validation sets\n",
    "        train_ys = model.predict(data[features])\n",
    "        valid_ys = model.predict(valid[features])\n",
    "        # Compute accuracy for training and validation sets\n",
    "        train_accuracy[i] = float(np.sum(np.equal(data.quality, train_ys)))/n_data\n",
    "        valid_accuracy[i] = float(np.sum(np.equal(valid.quality, valid_ys)))/n_valid\n",
    "    return train_accuracy, valid_accuracy"
   ]
  },
  {
   "cell_type": "code",
   "execution_count": 90,
   "metadata": {
    "collapsed": true
   },
   "outputs": [],
   "source": [
    "ds = np.array(range(1,160))\n",
    "tacc,vacc = tune_decision_tree_model(red_train, red_valid, ds)"
   ]
  },
  {
   "cell_type": "code",
   "execution_count": 91,
   "metadata": {},
   "outputs": [
    {
     "data": {
      "image/png": "[encoded data removed]",
      "text/plain": [
       "<matplotlib.figure.Figure at 0x7f9eb356e890>"
      ]
     },
     "metadata": {},
     "output_type": "display_data"
    }
   ],
   "source": [
    "plt.plot(ds,tacc,'bo',ds,vacc,'r.')\n",
    "plt.show()"
   ]
  },
  {
   "cell_type": "markdown",
   "metadata": {},
   "source": [
    "This doesn't look that great! But it turns out that by leveraging a forest of such (relatively) poor decision trees, we can slightly improve the performance. "
   ]
  },
  {
   "cell_type": "code",
   "execution_count": 92,
   "metadata": {
    "collapsed": true
   },
   "outputs": [],
   "source": [
    "from sklearn.ensemble import RandomForestClassifier as RFC"
   ]
  },
  {
   "cell_type": "code",
   "execution_count": 93,
   "metadata": {
    "collapsed": true
   },
   "outputs": [],
   "source": [
    "ds = np.array(range(1,160))\n",
    "tacc,vacc = tune_decision_tree_model(red_train, red_valid, ds, model_type = RFC)"
   ]
  },
  {
   "cell_type": "code",
   "execution_count": 94,
   "metadata": {},
   "outputs": [
    {
     "data": {
      "image/png": "[encoded data removed]",
      "text/plain": [
       "<matplotlib.figure.Figure at 0x7f9eb389d350>"
      ]
     },
     "metadata": {},
     "output_type": "display_data"
    }
   ],
   "source": [
    "plt.plot(ds,tacc,'bo',ds,vacc,'r.')\n",
    "plt.show()"
   ]
  },
  {
   "cell_type": "code",
   "execution_count": 96,
   "metadata": {},
   "outputs": [
    {
     "name": "stdout",
     "output_type": "stream",
     "text": [
      "Classification accuracy on the test set: 0.629167\n"
     ]
    }
   ],
   "source": [
    "# Here we chose d = 42\n",
    "model = RFC(max_depth=42)\n",
    "n = red_test.shape[0]\n",
    "features = red_train.columns.difference(['quality'])\n",
    "model.fit(red_train[features], red_train.quality)\n",
    "ys = model.predict(red_test[features])\n",
    "accuracy = float(np.sum(np.equal(red_test.quality, ys)))/n\n",
    "print('Classification accuracy on the test set: %f' % accuracy)"
   ]
  },
  {
   "cell_type": "markdown",
   "metadata": {},
   "source": [
    "# Logistic Regression"
   ]
  },
  {
   "cell_type": "code",
   "execution_count": 10,
   "metadata": {
    "collapsed": true
   },
   "outputs": [],
   "source": [
    "from sklearn.linear_model import SGDClassifier as LR"
   ]
  },
  {
   "cell_type": "code",
   "execution_count": 11,
   "metadata": {},
   "outputs": [
    {
     "data": {
      "text/html": [
       "<div>\n",
       "<style>\n",
       "    .dataframe thead tr:only-child th {\n",
       "        text-align: right;\n",
       "    }\n",
       "\n",
       "    .dataframe thead th {\n",
       "        text-align: left;\n",
       "    }\n",
       "\n",
       "    .dataframe tbody tr th {\n",
       "        vertical-align: top;\n",
       "    }\n",
       "</style>\n",
       "<table border=\"1\" class=\"dataframe\">\n",
       "  <thead>\n",
       "    <tr style=\"text-align: right;\">\n",
       "      <th></th>\n",
       "      <th>MDVP:Fo(Hz)</th>\n",
       "      <th>MDVP:Fhi(Hz)</th>\n",
       "      <th>MDVP:Flo(Hz)</th>\n",
       "      <th>MDVP:Jitter(%)</th>\n",
       "      <th>MDVP:Jitter(Abs)</th>\n",
       "      <th>MDVP:RAP</th>\n",
       "      <th>MDVP:PPQ</th>\n",
       "      <th>Jitter:DDP</th>\n",
       "      <th>MDVP:Shimmer</th>\n",
       "      <th>MDVP:Shimmer(dB)</th>\n",
       "      <th>...</th>\n",
       "      <th>Shimmer:DDA</th>\n",
       "      <th>NHR</th>\n",
       "      <th>HNR</th>\n",
       "      <th>status</th>\n",
       "      <th>RPDE</th>\n",
       "      <th>DFA</th>\n",
       "      <th>spread1</th>\n",
       "      <th>spread2</th>\n",
       "      <th>D2</th>\n",
       "      <th>PPE</th>\n",
       "    </tr>\n",
       "  </thead>\n",
       "  <tbody>\n",
       "    <tr>\n",
       "      <th>0</th>\n",
       "      <td>173.898</td>\n",
       "      <td>211.350</td>\n",
       "      <td>74.677</td>\n",
       "      <td>0.00448</td>\n",
       "      <td>0.00003</td>\n",
       "      <td>0.00237</td>\n",
       "      <td>0.00254</td>\n",
       "      <td>0.00710</td>\n",
       "      <td>0.06727</td>\n",
       "      <td>0.650</td>\n",
       "      <td>...</td>\n",
       "      <td>0.11363</td>\n",
       "      <td>0.04214</td>\n",
       "      <td>14.739</td>\n",
       "      <td>1</td>\n",
       "      <td>0.599371</td>\n",
       "      <td>0.743937</td>\n",
       "      <td>-5.783272</td>\n",
       "      <td>0.299793</td>\n",
       "      <td>3.007096</td>\n",
       "      <td>0.194052</td>\n",
       "    </tr>\n",
       "    <tr>\n",
       "      <th>1</th>\n",
       "      <td>119.100</td>\n",
       "      <td>128.442</td>\n",
       "      <td>88.833</td>\n",
       "      <td>0.00692</td>\n",
       "      <td>0.00006</td>\n",
       "      <td>0.00393</td>\n",
       "      <td>0.00300</td>\n",
       "      <td>0.01179</td>\n",
       "      <td>0.02682</td>\n",
       "      <td>0.236</td>\n",
       "      <td>...</td>\n",
       "      <td>0.04451</td>\n",
       "      <td>0.04611</td>\n",
       "      <td>21.824</td>\n",
       "      <td>1</td>\n",
       "      <td>0.651680</td>\n",
       "      <td>0.659333</td>\n",
       "      <td>-4.239028</td>\n",
       "      <td>0.175691</td>\n",
       "      <td>2.451130</td>\n",
       "      <td>0.247455</td>\n",
       "    </tr>\n",
       "    <tr>\n",
       "      <th>2</th>\n",
       "      <td>167.930</td>\n",
       "      <td>193.221</td>\n",
       "      <td>79.068</td>\n",
       "      <td>0.00442</td>\n",
       "      <td>0.00003</td>\n",
       "      <td>0.00220</td>\n",
       "      <td>0.00247</td>\n",
       "      <td>0.00661</td>\n",
       "      <td>0.04351</td>\n",
       "      <td>0.377</td>\n",
       "      <td>...</td>\n",
       "      <td>0.06685</td>\n",
       "      <td>0.01280</td>\n",
       "      <td>22.468</td>\n",
       "      <td>1</td>\n",
       "      <td>0.619060</td>\n",
       "      <td>0.679834</td>\n",
       "      <td>-4.330956</td>\n",
       "      <td>0.262384</td>\n",
       "      <td>2.916777</td>\n",
       "      <td>0.285695</td>\n",
       "    </tr>\n",
       "    <tr>\n",
       "      <th>3</th>\n",
       "      <td>158.219</td>\n",
       "      <td>442.557</td>\n",
       "      <td>71.948</td>\n",
       "      <td>0.00476</td>\n",
       "      <td>0.00003</td>\n",
       "      <td>0.00214</td>\n",
       "      <td>0.00207</td>\n",
       "      <td>0.00642</td>\n",
       "      <td>0.01458</td>\n",
       "      <td>0.148</td>\n",
       "      <td>...</td>\n",
       "      <td>0.01818</td>\n",
       "      <td>0.01554</td>\n",
       "      <td>26.356</td>\n",
       "      <td>1</td>\n",
       "      <td>0.450798</td>\n",
       "      <td>0.653823</td>\n",
       "      <td>-6.051233</td>\n",
       "      <td>0.273280</td>\n",
       "      <td>2.640798</td>\n",
       "      <td>0.170106</td>\n",
       "    </tr>\n",
       "    <tr>\n",
       "      <th>4</th>\n",
       "      <td>114.563</td>\n",
       "      <td>119.167</td>\n",
       "      <td>86.647</td>\n",
       "      <td>0.00327</td>\n",
       "      <td>0.00003</td>\n",
       "      <td>0.00146</td>\n",
       "      <td>0.00184</td>\n",
       "      <td>0.00439</td>\n",
       "      <td>0.01185</td>\n",
       "      <td>0.106</td>\n",
       "      <td>...</td>\n",
       "      <td>0.01672</td>\n",
       "      <td>0.00703</td>\n",
       "      <td>24.775</td>\n",
       "      <td>0</td>\n",
       "      <td>0.555303</td>\n",
       "      <td>0.659132</td>\n",
       "      <td>-6.710219</td>\n",
       "      <td>0.149694</td>\n",
       "      <td>1.913990</td>\n",
       "      <td>0.121777</td>\n",
       "    </tr>\n",
       "  </tbody>\n",
       "</table>\n",
       "<p>5 rows × 23 columns</p>\n",
       "</div>"
      ],
      "text/plain": [
       "   MDVP:Fo(Hz)  MDVP:Fhi(Hz)  MDVP:Flo(Hz)  MDVP:Jitter(%)  MDVP:Jitter(Abs)  \\\n",
       "0      173.898       211.350        74.677         0.00448           0.00003   \n",
       "1      119.100       128.442        88.833         0.00692           0.00006   \n",
       "2      167.930       193.221        79.068         0.00442           0.00003   \n",
       "3      158.219       442.557        71.948         0.00476           0.00003   \n",
       "4      114.563       119.167        86.647         0.00327           0.00003   \n",
       "\n",
       "   MDVP:RAP  MDVP:PPQ  Jitter:DDP  MDVP:Shimmer  MDVP:Shimmer(dB)    ...     \\\n",
       "0   0.00237   0.00254     0.00710       0.06727             0.650    ...      \n",
       "1   0.00393   0.00300     0.01179       0.02682             0.236    ...      \n",
       "2   0.00220   0.00247     0.00661       0.04351             0.377    ...      \n",
       "3   0.00214   0.00207     0.00642       0.01458             0.148    ...      \n",
       "4   0.00146   0.00184     0.00439       0.01185             0.106    ...      \n",
       "\n",
       "   Shimmer:DDA      NHR     HNR  status      RPDE       DFA   spread1  \\\n",
       "0      0.11363  0.04214  14.739       1  0.599371  0.743937 -5.783272   \n",
       "1      0.04451  0.04611  21.824       1  0.651680  0.659333 -4.239028   \n",
       "2      0.06685  0.01280  22.468       1  0.619060  0.679834 -4.330956   \n",
       "3      0.01818  0.01554  26.356       1  0.450798  0.653823 -6.051233   \n",
       "4      0.01672  0.00703  24.775       0  0.555303  0.659132 -6.710219   \n",
       "\n",
       "    spread2        D2       PPE  \n",
       "0  0.299793  3.007096  0.194052  \n",
       "1  0.175691  2.451130  0.247455  \n",
       "2  0.262384  2.916777  0.285695  \n",
       "3  0.273280  2.640798  0.170106  \n",
       "4  0.149694  1.913990  0.121777  \n",
       "\n",
       "[5 rows x 23 columns]"
      ]
     },
     "execution_count": 11,
     "metadata": {},
     "output_type": "execute_result"
    }
   ],
   "source": [
    "parkinsons_train = pd.read_csv(\"/home/vagrant/repos/ENGS108/dataset/hw2/log_reg/parkinsons_train.csv\")\n",
    "parkinsons_test = pd.read_csv(\"/home/vagrant/repos/ENGS108/dataset/hw2/log_reg/parkinsons_test.csv\")\n",
    "parkinsons_train.head()"
   ]
  },
  {
   "cell_type": "code",
   "execution_count": 37,
   "metadata": {},
   "outputs": [
    {
     "data": {
      "text/plain": [
       "SGDClassifier(alpha=0.0001, average=False, class_weight=None, epsilon=0.1,\n",
       "       eta0=0.0, fit_intercept=True, l1_ratio=0.15,\n",
       "       learning_rate='optimal', loss='log', max_iter=1000000.0,\n",
       "       n_iter=None, n_jobs=1, penalty='l2', power_t=0.5, random_state=None,\n",
       "       shuffle=True, tol=0.001, verbose=0, warm_start=False)"
      ]
     },
     "execution_count": 37,
     "metadata": {},
     "output_type": "execute_result"
    }
   ],
   "source": [
    "features = parkinsons_train.columns.difference(['status'])\n",
    "model = LR(learning_rate='optimal', loss='log', tol=1e-3, max_iter=1e6)\n",
    "model.fit(parkinsons_train[features],parkinsons_train.status)"
   ]
  },
  {
   "cell_type": "code",
   "execution_count": 38,
   "metadata": {
    "collapsed": true
   },
   "outputs": [],
   "source": [
    "n_train = parkinsons_train.shape[0]\n",
    "n_test = parkinsons_test.shape[0]\n",
    "train_ys = model.predict(parkinsons_train[features])\n",
    "test_ys = model.predict(parkinsons_test[features])\n",
    "tr_acc = float(np.sum(np.equal(parkinsons_train.status, train_ys)))/n_train\n",
    "te_acc = float(np.sum(np.equal(parkinsons_test.status, test_ys)))/n_test"
   ]
  },
  {
   "cell_type": "code",
   "execution_count": 39,
   "metadata": {},
   "outputs": [
    {
     "name": "stdout",
     "output_type": "stream",
     "text": [
      "Training Accuracy: 0.750000\n",
      "Testing Accuracy: 0.762712\n"
     ]
    }
   ],
   "source": [
    "print(\"Training Accuracy: %f\\nTesting Accuracy: %f\" % (tr_acc, te_acc))"
   ]
  }
 ],
 "metadata": {
  "kernelspec": {
   "display_name": "Python 2",
   "language": "python",
   "name": "python2"
  },
  "language_info": {
   "codemirror_mode": {
    "name": "ipython",
    "version": 2
   },
   "file_extension": ".py",
   "mimetype": "text/x-python",
   "name": "python",
   "nbconvert_exporter": "python",
   "pygments_lexer": "ipython2",
   "version": "2.7.13"
  }
 },
 "nbformat": 4,
 "nbformat_minor": 2
}
