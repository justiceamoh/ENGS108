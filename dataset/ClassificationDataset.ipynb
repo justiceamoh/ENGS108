{
 "cells": [
  {
   "cell_type": "markdown",
   "metadata": {},
   "source": [
    "# Homework 2 - Classification Dataset\n",
    "\n",
    "#### Two datasets are included, related to red and white vinho verde wine samples, from the north of Portugal. The goal is to model wine quality based on physicochemical tests (see [Cortez et al., 2009])"
   ]
  },
  {
   "cell_type": "code",
   "execution_count": 17,
   "metadata": {
    "collapsed": true
   },
   "outputs": [],
   "source": [
    "import pandas as pd\n",
    "import numpy as np\n",
    "from sklearn.model_selection import train_test_split"
   ]
  },
  {
   "cell_type": "markdown",
   "metadata": {},
   "source": [
    "### Importing the datasets"
   ]
  },
  {
   "cell_type": "code",
   "execution_count": 18,
   "metadata": {
    "collapsed": true
   },
   "outputs": [],
   "source": [
    "redSetPath = \"classification/winequality-red.csv\"\n",
    "whiteSetPath = \"classification/winequality-white.csv\""
   ]
  },
  {
   "cell_type": "code",
   "execution_count": 19,
   "metadata": {
    "collapsed": false
   },
   "outputs": [],
   "source": [
    "#Reading in the raw data. Note that the features are seperated by ';' character \n",
    "redSet = pd.read_csv(redSetPath, sep=';')\n",
    "whiteSet = pd.read_csv(whiteSetPath, sep=';')"
   ]
  },
  {
   "cell_type": "markdown",
   "metadata": {},
   "source": [
    "### Braking datasets into training and testing sets"
   ]
  },
  {
   "cell_type": "code",
   "execution_count": 34,
   "metadata": {
    "collapsed": false
   },
   "outputs": [],
   "source": [
    "#Breaking the datasets into 70% training and 30% testing\n",
    "red_train, red_test = train_test_split(redSet,test_size=0.33)\n",
    "white_train, white_test = train_test_split(redSet,test_size=0.33)"
   ]
  },
  {
   "cell_type": "markdown",
   "metadata": {},
   "source": [
    "### Saving the train and test datasets"
   ]
  },
  {
   "cell_type": "code",
   "execution_count": 35,
   "metadata": {
    "collapsed": true
   },
   "outputs": [],
   "source": [
    "red_train_path = \"classification/red_train.csv\"\n",
    "red_test_path = \"classification/red_test.csv\"\n",
    "white_train_path = \"classification/white_train.csv\"\n",
    "white_test_path = \"classification/white_test.csv\""
   ]
  },
  {
   "cell_type": "code",
   "execution_count": 36,
   "metadata": {
    "collapsed": false
   },
   "outputs": [],
   "source": [
    "red_train.to_csv(path_or_buf=red_train_path, sep=';')\n",
    "red_test.to_csv(path_or_buf=red_test_path, sep=';')\n",
    "white_train.to_csv(path_or_buf=white_train_path, sep=';')\n",
    "white_test.to_csv(path_or_buf=white_test_path, sep=';')"
   ]
  },
  {
   "cell_type": "markdown",
   "metadata": {},
   "source": [
    "### Checking the saved data and their shapes:"
   ]
  },
  {
   "cell_type": "code",
   "execution_count": 37,
   "metadata": {
    "collapsed": false
   },
   "outputs": [
    {
     "name": "stdout",
     "output_type": "stream",
     "text": [
      "<class 'pandas.core.frame.DataFrame'>\n",
      "Int64Index: 1071 entries, 681 to 1238\n",
      "Data columns (total 12 columns):\n",
      "fixed acidity           1071 non-null float64\n",
      "volatile acidity        1071 non-null float64\n",
      "citric acid             1071 non-null float64\n",
      "residual sugar          1071 non-null float64\n",
      "chlorides               1071 non-null float64\n",
      "free sulfur dioxide     1071 non-null float64\n",
      "total sulfur dioxide    1071 non-null float64\n",
      "density                 1071 non-null float64\n",
      "pH                      1071 non-null float64\n",
      "sulphates               1071 non-null float64\n",
      "alcohol                 1071 non-null float64\n",
      "quality                 1071 non-null int64\n",
      "dtypes: float64(11), int64(1)\n",
      "memory usage: 108.8 KB\n"
     ]
    }
   ],
   "source": [
    "red_train.info()"
   ]
  },
  {
   "cell_type": "code",
   "execution_count": 38,
   "metadata": {
    "collapsed": false
   },
   "outputs": [
    {
     "name": "stdout",
     "output_type": "stream",
     "text": [
      "<class 'pandas.core.frame.DataFrame'>\n",
      "Int64Index: 528 entries, 133 to 1444\n",
      "Data columns (total 12 columns):\n",
      "fixed acidity           528 non-null float64\n",
      "volatile acidity        528 non-null float64\n",
      "citric acid             528 non-null float64\n",
      "residual sugar          528 non-null float64\n",
      "chlorides               528 non-null float64\n",
      "free sulfur dioxide     528 non-null float64\n",
      "total sulfur dioxide    528 non-null float64\n",
      "density                 528 non-null float64\n",
      "pH                      528 non-null float64\n",
      "sulphates               528 non-null float64\n",
      "alcohol                 528 non-null float64\n",
      "quality                 528 non-null int64\n",
      "dtypes: float64(11), int64(1)\n",
      "memory usage: 53.6 KB\n"
     ]
    }
   ],
   "source": [
    "red_test.info()"
   ]
  },
  {
   "cell_type": "code",
   "execution_count": 39,
   "metadata": {
    "collapsed": false
   },
   "outputs": [
    {
     "name": "stdout",
     "output_type": "stream",
     "text": [
      "<class 'pandas.core.frame.DataFrame'>\n",
      "Int64Index: 1071 entries, 572 to 1213\n",
      "Data columns (total 12 columns):\n",
      "fixed acidity           1071 non-null float64\n",
      "volatile acidity        1071 non-null float64\n",
      "citric acid             1071 non-null float64\n",
      "residual sugar          1071 non-null float64\n",
      "chlorides               1071 non-null float64\n",
      "free sulfur dioxide     1071 non-null float64\n",
      "total sulfur dioxide    1071 non-null float64\n",
      "density                 1071 non-null float64\n",
      "pH                      1071 non-null float64\n",
      "sulphates               1071 non-null float64\n",
      "alcohol                 1071 non-null float64\n",
      "quality                 1071 non-null int64\n",
      "dtypes: float64(11), int64(1)\n",
      "memory usage: 108.8 KB\n"
     ]
    }
   ],
   "source": [
    "white_train.info()"
   ]
  },
  {
   "cell_type": "code",
   "execution_count": 40,
   "metadata": {
    "collapsed": false
   },
   "outputs": [
    {
     "name": "stdout",
     "output_type": "stream",
     "text": [
      "<class 'pandas.core.frame.DataFrame'>\n",
      "Int64Index: 528 entries, 211 to 1439\n",
      "Data columns (total 12 columns):\n",
      "fixed acidity           528 non-null float64\n",
      "volatile acidity        528 non-null float64\n",
      "citric acid             528 non-null float64\n",
      "residual sugar          528 non-null float64\n",
      "chlorides               528 non-null float64\n",
      "free sulfur dioxide     528 non-null float64\n",
      "total sulfur dioxide    528 non-null float64\n",
      "density                 528 non-null float64\n",
      "pH                      528 non-null float64\n",
      "sulphates               528 non-null float64\n",
      "alcohol                 528 non-null float64\n",
      "quality                 528 non-null int64\n",
      "dtypes: float64(11), int64(1)\n",
      "memory usage: 53.6 KB\n"
     ]
    }
   ],
   "source": [
    "white_test.info()"
   ]
  },
  {
   "cell_type": "code",
   "execution_count": null,
   "metadata": {
    "collapsed": true
   },
   "outputs": [],
   "source": []
  }
 ],
 "metadata": {
  "kernelspec": {
   "display_name": "Python 2",
   "language": "python",
   "name": "python2"
  },
  "language_info": {
   "codemirror_mode": {
    "name": "ipython",
    "version": 2
   },
   "file_extension": ".py",
   "mimetype": "text/x-python",
   "name": "python",
   "nbconvert_exporter": "python",
   "pygments_lexer": "ipython2",
   "version": "2.7.13"
  }
 },
 "nbformat": 4,
 "nbformat_minor": 2
}
